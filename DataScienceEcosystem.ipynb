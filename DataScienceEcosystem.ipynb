{
 "cells": [
  {
   "cell_type": "markdown",
   "id": "33224964-da7a-4f74-8bee-7a11132da133",
   "metadata": {},
   "source": [
    "# Data Science Tools and Ecosystem"
   ]
  },
  {
   "cell_type": "markdown",
   "id": "21da832c-5ca7-4d6c-8035-ea06828cd537",
   "metadata": {},
   "source": [
    "In this notebook, Data Science Tools and Ecosystem are summarized."
   ]
  },
  {
   "cell_type": "markdown",
   "id": "26794cdd-53d2-47ed-8b56-b229350901d6",
   "metadata": {},
   "source": [
    "Some of the popular languages that Data Scientists use are:\n",
    "1. Python\n",
    "2. R\n",
    "3. Java\n",
    "4. SQL\n",
    "5. C++\n",
    "6. Julia"
   ]
  },
  {
   "cell_type": "markdown",
   "id": "d6dd4132-c1fc-40bd-bc64-ae842ed289e6",
   "metadata": {},
   "source": [
    "Some of the commonly used ibraries used by Data Scientist include:\n",
    "* Pamdas\n",
    "* NumPy\n",
    "* SciPi\n",
    "* MatPlotlib"
   ]
  },
  {
   "cell_type": "markdown",
   "id": "6ed97d4b-df2b-4ff5-aa37-60da445249ea",
   "metadata": {},
   "source": [
    "| Data Science Tools        |\n",
    "|---------------------------|\n",
    "| Jupyter Notebook          |\n",
    "| Spyder                    |\n",
    "| RStudio                   |\n"
   ]
  },
  {
   "cell_type": "markdown",
   "id": "29c5e14c-734e-40e6-b77a-a45b66291075",
   "metadata": {},
   "source": [
    "### Below are a few examples of evaluating aritmetic expressions in Python"
   ]
  },
  {
   "cell_type": "code",
   "execution_count": 5,
   "id": "302e0316-20a5-4a38-b88e-213c1c0db90b",
   "metadata": {},
   "outputs": [
    {
     "data": {
      "text/plain": [
       "17"
      ]
     },
     "execution_count": 5,
     "metadata": {},
     "output_type": "execute_result"
    }
   ],
   "source": [
    "(3*4)+5 #This is a simple aritmetic expression to multipy then add integers."
   ]
  },
  {
   "cell_type": "code",
   "execution_count": 6,
   "id": "2d53aa89-cb4b-428b-af1f-ecb5e1e823ff",
   "metadata": {},
   "outputs": [
    {
     "data": {
      "text/plain": [
       "3.3333333333333335"
      ]
     },
     "execution_count": 6,
     "metadata": {},
     "output_type": "execute_result"
    }
   ],
   "source": [
    "200/60 #This will convert 200 minutes to hours by dividing by 60"
   ]
  },
  {
   "cell_type": "markdown",
   "id": "9eab2cdf-d066-40d0-beb3-9a062a6f37e1",
   "metadata": {},
   "source": [
    "**Objectives:**\n",
    "- List popular languages for Data Science  \n",
    "- List commonly used libraries in Data Science  \n",
    "- Create and format tables using Markdown  \n",
    "- Identify open-source tools in the Anaconda toolbox  \n",
    "- Write and render Markdown cells in Jupyter Notebook  "
   ]
  },
  {
   "cell_type": "markdown",
   "id": "64391266-f8bb-4af1-8482-ff3b52c38d0a",
   "metadata": {},
   "source": [
    "## Author\n",
    "Manuel Salazar"
   ]
  }
 ],
 "metadata": {
  "kernelspec": {
   "display_name": "Python [conda env:base] *",
   "language": "python",
   "name": "conda-base-py"
  },
  "language_info": {
   "codemirror_mode": {
    "name": "ipython",
    "version": 3
   },
   "file_extension": ".py",
   "mimetype": "text/x-python",
   "name": "python",
   "nbconvert_exporter": "python",
   "pygments_lexer": "ipython3",
   "version": "3.13.5"
  }
 },
 "nbformat": 4,
 "nbformat_minor": 5
}
